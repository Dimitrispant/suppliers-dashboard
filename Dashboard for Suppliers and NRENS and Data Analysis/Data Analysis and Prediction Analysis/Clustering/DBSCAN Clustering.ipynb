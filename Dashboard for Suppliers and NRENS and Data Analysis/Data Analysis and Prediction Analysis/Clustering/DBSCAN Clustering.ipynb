{
 "cells": [
  {
   "cell_type": "code",
   "execution_count": 1,
   "id": "3c5f312a-522b-4896-b657-cb8742d3e8b8",
   "metadata": {},
   "outputs": [
    {
     "name": "stderr",
     "output_type": "stream",
     "text": [
      "/var/folders/zj/68yx89cn0p735ld5twt1bb580000gn/T/ipykernel_12166/2704510470.py:12: DtypeWarning: Columns (11) have mixed types. Specify dtype option on import or set low_memory=False.\n",
      "  data = pd.read_csv(\"merged_output.csv\")\n",
      "/var/folders/zj/68yx89cn0p735ld5twt1bb580000gn/T/ipykernel_12166/2704510470.py:51: SettingWithCopyWarning: \n",
      "A value is trying to be set on a copy of a slice from a DataFrame.\n",
      "Try using .loc[row_indexer,col_indexer] = value instead\n",
      "\n",
      "See the caveats in the documentation: https://pandas.pydata.org/pandas-docs/stable/user_guide/indexing.html#returning-a-view-versus-a-copy\n",
      "  data_clean['Cluster'] = dbscan_labels\n"
     ]
    }
   ],
   "source": [
    "import pandas as pd\n",
    "from sklearn.cluster import DBSCAN\n",
    "from sklearn.preprocessing import OneHotEncoder\n",
    "from sklearn.compose import ColumnTransformer\n",
    "from sklearn.pipeline import Pipeline\n",
    "from sklearn.impute import SimpleImputer\n",
    "from sklearn.preprocessing import StandardScaler\n",
    "from sklearn.decomposition import TruncatedSVD\n",
    "import plotly.express as px\n",
    "\n",
    "# Load the dataset\n",
    "data = pd.read_csv(\"merged_output.csv\")\n",
    "\n",
    "# Clean the 'EuroCost' column by removing commas and converting to numeric\n",
    "data['EuroCost'] = pd.to_numeric(data['EuroCost'].replace({',': ''}, regex=True), errors='coerce')\n",
    "\n",
    "# Drop rows where 'EuroCost' is still NaN after conversion\n",
    "data_clean = data.dropna(subset=['EuroCost'])\n",
    "\n",
    "# Select features for DBSCAN\n",
    "features = ['ReportYear', 'ReportMonth', 'OIPID', 'SupplierID', 'NRENID', 'Country', 'ServiceType', 'ConsumptionType']\n",
    "\n",
    "# Splitting into features (X)\n",
    "X = data_clean[features]\n",
    "\n",
    "# Handling missing values and encoding categorical variables\n",
    "categorical_features = ['OIPID', 'SupplierID', 'NRENID', 'Country', 'ServiceType', 'ConsumptionType']\n",
    "numerical_features = ['ReportYear', 'ReportMonth']\n",
    "\n",
    "# Preprocessing pipeline with imputation and scaling\n",
    "preprocessor = ColumnTransformer(\n",
    "    transformers=[\n",
    "        ('num', Pipeline(steps=[\n",
    "            ('imputer', SimpleImputer(strategy='mean')),\n",
    "            ('scaler', StandardScaler())\n",
    "        ]), numerical_features),\n",
    "        ('cat', Pipeline(steps=[\n",
    "            ('imputer', SimpleImputer(strategy='most_frequent')),\n",
    "            ('encoder', OneHotEncoder(handle_unknown='ignore', sparse_output=True))  # Sparse output\n",
    "        ]), categorical_features)\n",
    "    ])\n",
    "\n",
    "# Apply the preprocessing to the data\n",
    "X_preprocessed = preprocessor.fit_transform(X)\n",
    "\n",
    "# Apply DBSCAN\n",
    "dbscan = DBSCAN(eps=0.5, min_samples=5)  # Adjust eps and min_samples based on your data\n",
    "dbscan_labels = dbscan.fit_predict(X_preprocessed)\n",
    "\n",
    "# Add cluster labels to the original data\n",
    "data_clean['Cluster'] = dbscan_labels\n",
    "\n",
    "# Handle noise points (which DBSCAN assigns as -1)\n",
    "noise_points = data_clean[data_clean['Cluster'] == -1]\n",
    "clusters = data_clean[data_clean['Cluster'] != -1]\n"
   ]
  },
  {
   "cell_type": "markdown",
   "id": "277f88d1-9e19-4bf0-864e-45d877e499ef",
   "metadata": {},
   "source": [
    "#### Dominant Countries and Service Types in Each Cluster"
   ]
  },
  {
   "cell_type": "code",
   "execution_count": 3,
   "id": "e040461a-3f32-4116-ad00-925de21b84e2",
   "metadata": {},
   "outputs": [
    {
     "name": "stdout",
     "output_type": "stream",
     "text": [
      "Dominant Country and Service Type per Cluster (DBSCAN):\n",
      "             Country ServiceType\n",
      "Cluster                         \n",
      "0            FINLAND        None\n",
      "1            CROATIA        IaaS\n",
      "2            CROATIA        IaaS\n",
      "3                 UK        IaaS\n",
      "4                 UK        IaaS\n",
      "...              ...         ...\n",
      "1071     NETHERLANDS     Compute\n",
      "1072     NETHERLANDS     Compute\n",
      "1073         BELGIUM     Compute\n",
      "1074           SPAIN     Compute\n",
      "1075         AUSTRIA     Compute\n",
      "\n",
      "[1076 rows x 2 columns]\n"
     ]
    }
   ],
   "source": [
    "# Group the data by Cluster and then count the occurrences of each Country and ServiceType\n",
    "cluster_country_service = clusters.groupby('Cluster').agg({\n",
    "    'Country': lambda x: x.value_counts().index[0] if len(x.value_counts()) > 0 else None,  # Most frequent country in each cluster\n",
    "    'ServiceType': lambda x: x.value_counts().index[0] if len(x.value_counts()) > 0 else None  # Most frequent service type in each cluster\n",
    "})\n",
    "\n",
    "# Display the dominant country and service type per cluster\n",
    "print(\"Dominant Country and Service Type per Cluster (DBSCAN):\")\n",
    "print(cluster_country_service)\n",
    "\n"
   ]
  },
  {
   "cell_type": "markdown",
   "id": "089e6919-f25f-449d-95df-537962931719",
   "metadata": {},
   "source": [
    "#### Suppliers Driving Costs in Each Cluster"
   ]
  },
  {
   "cell_type": "code",
   "execution_count": 4,
   "id": "027b7d28-7b4b-494a-a09c-e9c698effab7",
   "metadata": {},
   "outputs": [
    {
     "name": "stdout",
     "output_type": "stream",
     "text": [
      "Supplier Driving Costs in Each Cluster (Sorted by EuroCost - DBSCAN):\n",
      "                                    EuroCost\n",
      "Cluster SupplierID                          \n",
      "80      Telefonica Soluciones  354204.909091\n",
      "174     CloudFerro             288313.000000\n",
      "108     Safespring AB          100421.363636\n",
      "208     Safespring              97111.502176\n",
      "202     Safespring AB           90187.596176\n",
      "...                                      ...\n",
      "764     SoftwareONE AG             -4.258333\n",
      "977     SoftwareONE               -62.123043\n",
      "599     SoftwareONE AG           -508.500000\n",
      "528     Vancis                  -1196.965500\n",
      "959     Vancis                  -1196.965500\n",
      "\n",
      "[1072 rows x 1 columns]\n"
     ]
    }
   ],
   "source": [
    "# Group the data by Cluster and SupplierID, and calculate the mean EuroCost for each supplier\n",
    "cluster_supplier_cost = clusters.groupby(['Cluster', 'SupplierID']).agg({\n",
    "    'EuroCost': 'mean'\n",
    "}).sort_values(by='EuroCost', ascending=False)\n",
    "\n",
    "# Display suppliers driving costs within each cluster\n",
    "print(\"Supplier Driving Costs in Each Cluster (Sorted by EuroCost - DBSCAN):\")\n",
    "print(cluster_supplier_cost)\n"
   ]
  },
  {
   "cell_type": "markdown",
   "id": "e9c367b9-d691-4066-9963-bb473de5110f",
   "metadata": {},
   "source": [
    "#### Clusters with Consistently Higher Cost"
   ]
  },
  {
   "cell_type": "code",
   "execution_count": 5,
   "id": "f79d2cba-f085-4821-bfb3-8f2f59fdcf62",
   "metadata": {},
   "outputs": [
    {
     "name": "stdout",
     "output_type": "stream",
     "text": [
      "Average EuroCost per Cluster (DBSCAN):\n",
      "Cluster\n",
      "0           0.000000\n",
      "1        4395.193333\n",
      "2        4548.338889\n",
      "3       28361.720181\n",
      "4       11820.988693\n",
      "            ...     \n",
      "1071    63271.277619\n",
      "1072      927.918333\n",
      "1073     1400.948889\n",
      "1074     2408.281667\n",
      "1075       87.175000\n",
      "Name: EuroCost, Length: 1076, dtype: float64\n"
     ]
    }
   ],
   "source": [
    "# Calculate the mean EuroCost for each cluster\n",
    "cluster_cost = clusters.groupby('Cluster')['EuroCost'].mean()\n",
    "\n",
    "# Display the mean EuroCost per cluster\n",
    "print(\"Average EuroCost per Cluster (DBSCAN):\")\n",
    "print(cluster_cost)\n"
   ]
  },
  {
   "cell_type": "markdown",
   "id": "b113bdd1-e040-4161-979c-b3259d663020",
   "metadata": {},
   "source": [
    "####  General Profiling of Clusters"
   ]
  },
  {
   "cell_type": "code",
   "execution_count": 7,
   "id": "9920b0cb-a562-4d1c-ac32-ae633214860c",
   "metadata": {},
   "outputs": [
    {
     "name": "stdout",
     "output_type": "stream",
     "text": [
      "Cluster Profiling Summary (DBSCAN):\n",
      "             Country ServiceType                    SupplierID      EuroCost  \\\n",
      "            <lambda>    <lambda>                      <lambda>          mean   \n",
      "Cluster                                                                        \n",
      "0            FINLAND         N/A                   Computas AS      0.000000   \n",
      "1            CROATIA        IaaS                 SETCOR d.o.o.   4395.193333   \n",
      "2            CROATIA        IaaS                 SETCOR d.o.o.   4548.338889   \n",
      "3                 UK        IaaS                          Jisc  28361.720181   \n",
      "4                 UK        IaaS                          Jisc  11820.988693   \n",
      "...              ...         ...                           ...           ...   \n",
      "1071     NETHERLANDS     Compute  Rackspace International GmbH  63271.277619   \n",
      "1072     NETHERLANDS     Compute  Rackspace International GmbH    927.918333   \n",
      "1073         BELGIUM     Compute  Rackspace International GmbH   1400.948889   \n",
      "1074           SPAIN     Compute  Rackspace International GmbH   2408.281667   \n",
      "1075         AUSTRIA     Compute  Rackspace International GmbH     87.175000   \n",
      "\n",
      "                            ReportYear  \n",
      "               median count       mean  \n",
      "Cluster                                 \n",
      "0            0.000000    15     2021.0  \n",
      "1         3901.720000     9     2023.0  \n",
      "2         3901.720000     9     2023.0  \n",
      "3        25572.320560     6     2022.0  \n",
      "4          810.657058   117     2023.0  \n",
      "...               ...   ...        ...  \n",
      "1071      7325.750000    21     2022.0  \n",
      "1072       976.155000     6     2022.0  \n",
      "1073       497.190000     9     2022.0  \n",
      "1074      1741.215000    12     2022.0  \n",
      "1075        83.980000     6     2022.0  \n",
      "\n",
      "[1076 rows x 7 columns]\n"
     ]
    }
   ],
   "source": [
    "# General profiling for each cluster, calculating the count of occurrences and mean values\n",
    "cluster_profile = clusters.groupby('Cluster').agg({\n",
    "    'Country': lambda x: x.value_counts().index[0] if len(x.value_counts()) > 0 else 'N/A',  # Most frequent country, or 'N/A' if none\n",
    "    'ServiceType': lambda x: x.value_counts().index[0] if len(x.value_counts()) > 0 else 'N/A',  # Most frequent service type, or 'N/A'\n",
    "    'SupplierID': lambda x: x.value_counts().index[0] if len(x.value_counts()) > 0 else 'N/A',  # Most frequent supplier, or 'N/A'\n",
    "    'EuroCost': ['mean', 'median', 'count'],  # Average, median, and count of EuroCost\n",
    "    'ReportYear': 'mean'  # Average report year\n",
    "})\n",
    "\n",
    "# Display the cluster profiling\n",
    "print(\"Cluster Profiling Summary (DBSCAN):\")\n",
    "print(cluster_profile)\n"
   ]
  },
  {
   "cell_type": "markdown",
   "id": "1a754268-8070-4a08-9f50-100a62e3fb65",
   "metadata": {},
   "source": [
    "#### Outlier Detection (Noise Points)"
   ]
  },
  {
   "cell_type": "code",
   "execution_count": 8,
   "id": "a1fd194e-cb99-428c-89ab-5b410fae7d86",
   "metadata": {},
   "outputs": [
    {
     "name": "stdout",
     "output_type": "stream",
     "text": [
      "Number of noise points detected by DBSCAN: 1215\n",
      "Noise Points:\n",
      "             Date  ReportYear  ReportMonth       OIPID   SupplierID   NRENID  \\\n",
      "3      30/06/2023      2023.0          4.0         AWS      Sparkle  UNINETT   \n",
      "4      30/06/2023      2023.0          4.0         AWS      Sparkle  Rediris   \n",
      "5      30/06/2023      2023.0          4.0         AWS      Sparkle      DFN   \n",
      "6      30/06/2023      2023.0          4.0         AWS      Sparkle  UNINETT   \n",
      "7      30/06/2023      2023.0          4.0         AWS      Sparkle  Rediris   \n",
      "...           ...         ...          ...         ...          ...      ...   \n",
      "98964  10/12/2023      2023.0         10.0          AZ      Atea AS    SUNET   \n",
      "98965  29/04/2022      2022.0          1.0  CloudSigma   CloudSigma   SWITCH   \n",
      "99342  07/06/2021      2021.0          4.0      Google  Computas AS     DeiC   \n",
      "99343  07/06/2021      2021.0          4.0      Google  Computas AS     DeiC   \n",
      "99344  07/06/2021      2021.0          4.0      Google  Computas AS     DeiC   \n",
      "\n",
      "       Country Currency                                    InstitutionName  \\\n",
      "3       NORWAY     Euro                             Utdanningsdirektoratet   \n",
      "4        SPAIN     Euro  Centre Tecnològic de Telecomunicacions de Cata...   \n",
      "5      GERMANY     Euro                           Freie Universitat Berlin   \n",
      "6       NORWAY     Euro                             Utdanningsdirektoratet   \n",
      "7        SPAIN     Euro  Centre Tecnològic de Telecomunicacions de Cata...   \n",
      "...        ...      ...                                                ...   \n",
      "98964   SWEDEN      EUR                                   Umeå Universitet   \n",
      "98965       UK      EUR                          Oxford Brookes University   \n",
      "99342  DENMARK      EUR                                                NaN   \n",
      "99343  DENMARK      EUR                                                NaN   \n",
      "99344  DENMARK      EUR                                                NaN   \n",
      "\n",
      "      ProviderREF                 ServiceType      EuroCost Local Currency  \\\n",
      "3            UDIR                        IaaS    815.470000           Euro   \n",
      "4            CTTC                        IaaS     35.460000           Euro   \n",
      "5             FUB                        IaaS  15991.150000           Euro   \n",
      "6            UDIR                        IaaS   1019.360000           Euro   \n",
      "7            CTTC                        IaaS     36.740000           Euro   \n",
      "...           ...                         ...           ...            ...   \n",
      "98964  9855207130  Compute, Storage and Other  29312.506632            NaN   \n",
      "98965         NaN                        IaaS   1000.000000            CHF   \n",
      "99342         NaN                         NaN      0.000000            NaN   \n",
      "99343         NaN                         NaN      0.000000            NaN   \n",
      "99344         NaN                         NaN      0.000000            NaN   \n",
      "\n",
      "       ExchangeRate Local Cost ConsumptionType  Cluster  \n",
      "3            1.0000     815.47      Central IT       -1  \n",
      "4            1.0000      35.46      Central IT       -1  \n",
      "5            1.0000   15991.15      Central IT       -1  \n",
      "6            1.0000    1019.36      Central IT       -1  \n",
      "7            1.0000      36.74      Central IT       -1  \n",
      "...             ...        ...             ...      ...  \n",
      "98964       11.1197        0.0         Compute       -1  \n",
      "98965        1.0000    1051.08         Compute       -1  \n",
      "99342        1.0000        0.0             NaN       -1  \n",
      "99343        1.0000        0.0             NaN       -1  \n",
      "99344        1.0000        0.0             NaN       -1  \n",
      "\n",
      "[1215 rows x 17 columns]\n"
     ]
    }
   ],
   "source": [
    "# Check how many points were classified as noise by DBSCAN (label = -1)\n",
    "print(f\"Number of noise points detected by DBSCAN: {len(noise_points)}\")\n",
    "\n",
    "# Optionally, inspect the noise points\n",
    "print(\"Noise Points:\")\n",
    "print(noise_points)\n"
   ]
  },
  {
   "cell_type": "code",
   "execution_count": null,
   "id": "07f1b200-96de-490a-a8c4-18706c3f3952",
   "metadata": {},
   "outputs": [],
   "source": []
  }
 ],
 "metadata": {
  "kernelspec": {
   "display_name": "Python 3 (ipykernel)",
   "language": "python",
   "name": "python3"
  },
  "language_info": {
   "codemirror_mode": {
    "name": "ipython",
    "version": 3
   },
   "file_extension": ".py",
   "mimetype": "text/x-python",
   "name": "python",
   "nbconvert_exporter": "python",
   "pygments_lexer": "ipython3",
   "version": "3.11.4"
  }
 },
 "nbformat": 4,
 "nbformat_minor": 5
}
